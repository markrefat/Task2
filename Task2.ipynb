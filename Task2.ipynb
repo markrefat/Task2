{
 "cells": [
  {
   "cell_type": "code",
   "execution_count": 1,
   "id": "fc2782cb",
   "metadata": {},
   "outputs": [],
   "source": [
    "import cobra"
   ]
  },
  {
   "cell_type": "code",
   "execution_count": 2,
   "id": "9fade659",
   "metadata": {},
   "outputs": [],
   "source": [
    "import escher"
   ]
  },
  {
   "cell_type": "code",
   "execution_count": 3,
   "id": "e71fbc0d",
   "metadata": {},
   "outputs": [],
   "source": [
    "from cobra import *"
   ]
  },
  {
   "cell_type": "code",
   "execution_count": 4,
   "id": "1a69d369",
   "metadata": {},
   "outputs": [],
   "source": [
    "from escher import Builder"
   ]
  },
  {
   "cell_type": "code",
   "execution_count": 5,
   "id": "8e826338",
   "metadata": {},
   "outputs": [],
   "source": [
    "model = Model('Test')"
   ]
  },
  {
   "cell_type": "code",
   "execution_count": 6,
   "id": "3489a668",
   "metadata": {},
   "outputs": [],
   "source": [
    "GLC = Metabolite('GLC', compartment='c')\n",
    "AA = Metabolite('AA', compartment='c')\n",
    "Biomass = Metabolite('Biomass', compartment='c')"
   ]
  },
  {
   "cell_type": "code",
   "execution_count": 7,
   "id": "c86aa24c",
   "metadata": {},
   "outputs": [],
   "source": [
    "######## r0 : ======> GLC\n",
    "r0 = Reaction('r0')\n",
    "r0.name = 'R0'\n",
    "r0.lower_bound = 1\n",
    "r0.upper_bound = 1\n"
   ]
  },
  {
   "cell_type": "code",
   "execution_count": 8,
   "id": "dc9d42b7",
   "metadata": {},
   "outputs": [],
   "source": [
    "######## r1 : GLC ======> AA\n",
    "r1 = Reaction('r1')\n",
    "r1.name = 'R1'\n",
    "r1.lower_bound = 0\n",
    "r1.upper_bound = 1000"
   ]
  },
  {
   "cell_type": "code",
   "execution_count": 9,
   "id": "d0c71653",
   "metadata": {},
   "outputs": [],
   "source": [
    "######## r2 : AA ======> Biomass\n",
    "r2 = Reaction('r2')\n",
    "r2.name = 'R2'\n",
    "r2.lower_bound = 0\n",
    "r2.upper_bound = 1000"
   ]
  },
  {
   "cell_type": "code",
   "execution_count": 10,
   "id": "83d1915a",
   "metadata": {},
   "outputs": [],
   "source": [
    "######## r3 : Biomass ======>\n",
    "r3 = Reaction('r3')\n",
    "r3.name = 'R3'\n",
    "r3.lower_bound = 0\n",
    "r3.upper_bound = 1000"
   ]
  },
  {
   "cell_type": "code",
   "execution_count": 11,
   "id": "e5e4ac94",
   "metadata": {},
   "outputs": [],
   "source": [
    "r0.add_metabolites({GLC: 1})"
   ]
  },
  {
   "cell_type": "code",
   "execution_count": 12,
   "id": "2b76cd17",
   "metadata": {},
   "outputs": [],
   "source": [
    "r1.add_metabolites({GLC: -1, AA: 1})"
   ]
  },
  {
   "cell_type": "code",
   "execution_count": 13,
   "id": "18afcdbd",
   "metadata": {},
   "outputs": [],
   "source": [
    "r2.add_metabolites({AA: -9.09, Biomass: 1})"
   ]
  },
  {
   "cell_type": "code",
   "execution_count": 14,
   "id": "e39bbad1",
   "metadata": {},
   "outputs": [],
   "source": [
    "r3.add_metabolites({Biomass: -1})"
   ]
  },
  {
   "cell_type": "code",
   "execution_count": 15,
   "id": "78819bf9",
   "metadata": {},
   "outputs": [],
   "source": [
    "model.add_reactions([r0, r1, r2, r3])"
   ]
  },
  {
   "cell_type": "code",
   "execution_count": 16,
   "id": "4d436e72",
   "metadata": {},
   "outputs": [],
   "source": [
    "model.objective = 'r3'"
   ]
  },
  {
   "cell_type": "code",
   "execution_count": 17,
   "id": "56ac51b2",
   "metadata": {},
   "outputs": [
    {
     "data": {
      "text/html": [
       "<strong><em>Optimal</em> solution with objective value 0.110</strong><br><div>\n",
       "<style scoped>\n",
       "    .dataframe tbody tr th:only-of-type {\n",
       "        vertical-align: middle;\n",
       "    }\n",
       "\n",
       "    .dataframe tbody tr th {\n",
       "        vertical-align: top;\n",
       "    }\n",
       "\n",
       "    .dataframe thead th {\n",
       "        text-align: right;\n",
       "    }\n",
       "</style>\n",
       "<table border=\"1\" class=\"dataframe\">\n",
       "  <thead>\n",
       "    <tr style=\"text-align: right;\">\n",
       "      <th></th>\n",
       "      <th>fluxes</th>\n",
       "      <th>reduced_costs</th>\n",
       "    </tr>\n",
       "  </thead>\n",
       "  <tbody>\n",
       "    <tr>\n",
       "      <th>r0</th>\n",
       "      <td>1.000000</td>\n",
       "      <td>0.220022</td>\n",
       "    </tr>\n",
       "    <tr>\n",
       "      <th>r1</th>\n",
       "      <td>1.000000</td>\n",
       "      <td>0.000000</td>\n",
       "    </tr>\n",
       "    <tr>\n",
       "      <th>r2</th>\n",
       "      <td>0.110011</td>\n",
       "      <td>0.000000</td>\n",
       "    </tr>\n",
       "    <tr>\n",
       "      <th>r3</th>\n",
       "      <td>0.110011</td>\n",
       "      <td>0.000000</td>\n",
       "    </tr>\n",
       "  </tbody>\n",
       "</table>\n",
       "</div>"
      ],
      "text/plain": [
       "<Solution 0.110 at 0x19032aaa910>"
      ]
     },
     "execution_count": 17,
     "metadata": {},
     "output_type": "execute_result"
    }
   ],
   "source": [
    "model.optimize()"
   ]
  },
  {
   "cell_type": "code",
   "execution_count": 18,
   "id": "5ed84474",
   "metadata": {},
   "outputs": [
    {
     "data": {
      "text/html": [
       "<h3>Objective</h3><p>1.0 r3 = 0.11001100110011001</p><h4>Uptake</h4><table border=\"1\" class=\"dataframe\">\n",
       "  <thead>\n",
       "    <tr style=\"text-align: right;\">\n",
       "      <th>Metabolite</th>\n",
       "      <th>Reaction</th>\n",
       "      <th>Flux</th>\n",
       "      <th>C-Number</th>\n",
       "      <th>C-Flux</th>\n",
       "    </tr>\n",
       "  </thead>\n",
       "  <tbody>\n",
       "    <tr>\n",
       "      <td>GLC</td>\n",
       "      <td>r0</td>\n",
       "      <td>1</td>\n",
       "      <td>0</td>\n",
       "      <td>0.00%</td>\n",
       "    </tr>\n",
       "  </tbody>\n",
       "</table><h4>Secretion</h4><table border=\"1\" class=\"dataframe\">\n",
       "  <thead>\n",
       "    <tr style=\"text-align: right;\">\n",
       "      <th>Metabolite</th>\n",
       "      <th>Reaction</th>\n",
       "      <th>Flux</th>\n",
       "      <th>C-Number</th>\n",
       "      <th>C-Flux</th>\n",
       "    </tr>\n",
       "  </thead>\n",
       "  <tbody>\n",
       "    <tr>\n",
       "      <td>Biomass</td>\n",
       "      <td>r3</td>\n",
       "      <td>-0.11</td>\n",
       "      <td>0</td>\n",
       "      <td>0.00%</td>\n",
       "    </tr>\n",
       "  </tbody>\n",
       "</table>"
      ],
      "text/plain": [
       "<cobra.summary.model_summary.ModelSummary at 0x19032ad7160>"
      ]
     },
     "execution_count": 18,
     "metadata": {},
     "output_type": "execute_result"
    }
   ],
   "source": [
    "model.summary()"
   ]
  },
  {
   "cell_type": "code",
   "execution_count": 19,
   "id": "652bd1e2",
   "metadata": {},
   "outputs": [],
   "source": [
    "cobra.io.save_json_model(model, \"task2.json\")"
   ]
  },
  {
   "cell_type": "code",
   "execution_count": 20,
   "id": "4776e2bd",
   "metadata": {},
   "outputs": [],
   "source": [
    "build = Builder(model_json=\"task2.json\")"
   ]
  },
  {
   "cell_type": "code",
   "execution_count": 21,
   "id": "dbed4617",
   "metadata": {},
   "outputs": [
    {
     "data": {
      "application/vnd.jupyter.widget-view+json": {
       "model_id": "07156cd6566245fa81ad1b3f18f97c5e",
       "version_major": 2,
       "version_minor": 0
      },
      "text/plain": [
       "Builder()"
      ]
     },
     "metadata": {},
     "output_type": "display_data"
    }
   ],
   "source": [
    "build"
   ]
  },
  {
   "cell_type": "code",
   "execution_count": null,
   "id": "9653a8aa",
   "metadata": {},
   "outputs": [],
   "source": []
  }
 ],
 "metadata": {
  "kernelspec": {
   "display_name": "Python 3 (ipykernel)",
   "language": "python",
   "name": "python3"
  },
  "language_info": {
   "codemirror_mode": {
    "name": "ipython",
    "version": 3
   },
   "file_extension": ".py",
   "mimetype": "text/x-python",
   "name": "python",
   "nbconvert_exporter": "python",
   "pygments_lexer": "ipython3",
   "version": "3.9.7"
  }
 },
 "nbformat": 4,
 "nbformat_minor": 5
}
